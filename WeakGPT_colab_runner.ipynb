{
  "cells": [
    {
      "cell_type": "markdown",
      "metadata": {
        "id": "gOWiRDcNvRat"
      },
      "source": [
        "# WeakGPT colab runner\n",
        "\n",
        "WeakGPT is a proof of concept chatbot based on a LLM built to demonstrate prompt injections.\n",
        "Check the code @ https://github.com/CorentinGoet/WeakGPT\n",
        "\n",
        "---\n",
        "\n",
        "In order to run this PoC from [Google Colab](https://colab.research.google.com):\n",
        "- upload the notebook\n",
        "- change the execution environment and select T4 GPU: Runtime > change runtime type (Exécution > modifier le type d'exécution)\n",
        "- run the notebook: Ctrl + F9 or Runtime > run all (Exécution > tout exécuter)\n",
        "    - Note that this step may take a while since we need to download the model (~4 GB)\n",
        "- click the link provided by the last code cell executed\n",
        "- copy and paste the password/IP address written above the URL to the authentication page\n",
        "- chat with the bot"
      ]
    },
    {
      "cell_type": "code",
      "execution_count": null,
      "metadata": {
        "id": "wOOZ0vYcvQzP"
      },
      "outputs": [],
      "source": [
        "# Download and install the required libraries and packages\n",
        "!sudo apt-get install -y pciutils\n",
        "!pip install streamlit langchain\n",
        "!npm install localtunnel\n",
        "!curl -fsSL https://ollama.com/install.sh | sh"
      ]
    },
    {
      "cell_type": "code",
      "execution_count": null,
      "metadata": {
        "id": "srde8r8-v5h0"
      },
      "outputs": [],
      "source": [
        "# set up Ollama\n",
        "import os\n",
        "import threading\n",
        "import subprocess\n",
        "\n",
        "def ollama():\n",
        "    os.environ['OLLAMA_HOST'] = '0.0.0.0:11434'\n",
        "    os.environ['OLLAMA_ORIGINS'] = '*'\n",
        "    os.environ['LD_LIBRARY_PATH'] = \"/usr/lib64-nvidia\"\n",
        "    subprocess.Popen([\"ollama\", \"serve\"])\n",
        "\n",
        "ollama_thread = threading.Thread(target=ollama)\n",
        "ollama_thread.start()"
      ]
    },
    {
      "cell_type": "code",
      "execution_count": null,
      "metadata": {
        "id": "JTCjBDy3wWtf"
      },
      "outputs": [],
      "source": [
        "# download the model (may take a few minutes)\n",
        "!ollama pull mistral"
      ]
    },
    {
      "cell_type": "code",
      "execution_count": null,
      "metadata": {
        "id": "WXWVSIVWwadL"
      },
      "outputs": [],
      "source": [
        "# download the app\n",
        "!git clone https://github.com/CorentinGoet/WeakGPT"
      ]
    },
    {
      "cell_type": "code",
      "execution_count": null,
      "metadata": {
        "id": "9mA6X7KFwp7c"
      },
      "outputs": [],
      "source": [
        "# run the web app\n",
        "!echo \"The password is:\"\n",
        "!curl https://loca.lt/mytunnelpassword\n",
        "!streamlit run WeakGPT/app.py &>/content/logs.txt & npx localtunnel --port 8501"
      ]
    }
  ],
  "metadata": {
    "accelerator": "GPU",
    "colab": {
      "gpuType": "T4",
      "provenance": []
    },
    "kernelspec": {
      "display_name": "Python 3",
      "name": "python3"
    },
    "language_info": {
      "name": "python"
    }
  },
  "nbformat": 4,
  "nbformat_minor": 0
}
